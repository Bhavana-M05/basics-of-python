{
 "cells": [
  {
   "cell_type": "code",
   "execution_count": 1,
   "id": "0749ca60-898d-48de-8442-152756b95250",
   "metadata": {},
   "outputs": [
    {
     "name": "stdout",
     "output_type": "stream",
     "text": [
      "True\n",
      "True\n",
      "True\n"
     ]
    }
   ],
   "source": [
    "print(20<30)\n",
    "print(20 ==20)\n",
    "print(4>2)"
   ]
  },
  {
   "cell_type": "code",
   "execution_count": 3,
   "id": "7cce755e-beb1-4df1-8bfd-e16999846e6e",
   "metadata": {},
   "outputs": [
    {
     "name": "stdout",
     "output_type": "stream",
     "text": [
      "True\n",
      "False\n",
      "False\n",
      "True\n"
     ]
    }
   ],
   "source": [
    "print(bool(5))\n",
    "print(bool(0))\n",
    "print(bool())\n",
    "print(bool(56))"
   ]
  },
  {
   "cell_type": "code",
   "execution_count": 5,
   "id": "cf07b2bb-3a71-44c9-9469-2635e93c149b",
   "metadata": {},
   "outputs": [
    {
     "name": "stdout",
     "output_type": "stream",
     "text": [
      "False\n",
      "True\n",
      "True\n"
     ]
    }
   ],
   "source": [
    "print(90<50)\n",
    "print(90 ==90)\n",
    "print(4>2)"
   ]
  },
  {
   "cell_type": "code",
   "execution_count": 7,
   "id": "e70d2f03-1134-4e5e-ac26-4e90fc2d324b",
   "metadata": {},
   "outputs": [
    {
     "ename": "SyntaxError",
     "evalue": "invalid syntax (4144952307.py, line 1)",
     "output_type": "error",
     "traceback": [
      "\u001b[1;36m  Cell \u001b[1;32mIn[7], line 1\u001b[1;36m\u001b[0m\n\u001b[1;33m    print(bool(@))\u001b[0m\n\u001b[1;37m               ^\u001b[0m\n\u001b[1;31mSyntaxError\u001b[0m\u001b[1;31m:\u001b[0m invalid syntax\n"
     ]
    }
   ],
   "source": [
    "print(bool(@))\n",
    "print(bool(0))\n",
    "print(bool())\n",
    "print(bool(56))"
   ]
  },
  {
   "cell_type": "code",
   "execution_count": null,
   "id": "684b0b11-546b-4d4b-89e2-3f03f49f118b",
   "metadata": {},
   "outputs": [],
   "source": [
    "print(bool(5))\n",
    "print(bool(0))\n",
    "print(bool())\n",
    "print(bool(56))"
   ]
  }
 ],
 "metadata": {
  "kernelspec": {
   "display_name": "Python 3 (ipykernel)",
   "language": "python",
   "name": "python3"
  },
  "language_info": {
   "codemirror_mode": {
    "name": "ipython",
    "version": 3
   },
   "file_extension": ".py",
   "mimetype": "text/x-python",
   "name": "python",
   "nbconvert_exporter": "python",
   "pygments_lexer": "ipython3",
   "version": "3.12.4"
  }
 },
 "nbformat": 4,
 "nbformat_minor": 5
}
