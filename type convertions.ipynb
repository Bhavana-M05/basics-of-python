{
 "cells": [
  {
   "cell_type": "code",
   "execution_count": 9,
   "id": "0a927675-8d8d-48b4-af9a-00d0bdcdc5e5",
   "metadata": {},
   "outputs": [
    {
     "name": "stdout",
     "output_type": "stream",
     "text": [
      "<class 'int'>\n",
      "<class 'float'>\n",
      "<class 'complex'>\n"
     ]
    }
   ],
   "source": [
    "x = 5 \n",
    "y = 5.6 \n",
    "z = 6j  \n",
    "print(type(x))\n",
    "print(type(y))\n",
    "print(type(z))"
   ]
  },
  {
   "cell_type": "code",
   "execution_count": 11,
   "id": "d1dda140-633f-4115-8451-d357cb3fa41f",
   "metadata": {},
   "outputs": [
    {
     "name": "stdout",
     "output_type": "stream",
     "text": [
      "<class 'int'>\n",
      "<class 'float'>\n",
      "<class 'complex'>\n"
     ]
    }
   ],
   "source": [
    "x = 10\n",
    "y = 10.6\n",
    "z = 10j\n",
    "print(type(x))\n",
    "print(type(y))\n",
    "print(type(z))"
   ]
  },
  {
   "cell_type": "code",
   "execution_count": 19,
   "id": "8d879cc0-da2a-467d-a42e-98c4eb296405",
   "metadata": {},
   "outputs": [
    {
     "name": "stdout",
     "output_type": "stream",
     "text": [
      "9.0\n",
      "9\n",
      "(9.99+0j)\n",
      "(9.99+0j)\n"
     ]
    }
   ],
   "source": [
    "x = 9\n",
    "y = 9.99\n",
    "z = 9j\n",
    "a = float(x)\n",
    "b = int(y)\n",
    "c = complex(y)\n",
    "d = complex(y)\n",
    "print(a)\n",
    "print(b)\n",
    "print(c)\n",
    "print(d)"
   ]
  },
  {
   "cell_type": "code",
   "execution_count": 21,
   "id": "9b4e0814-c47a-4f5a-9087-17acb65cb07f",
   "metadata": {},
   "outputs": [
    {
     "ename": "TypeError",
     "evalue": "float() argument must be a string or a real number, not 'complex'",
     "output_type": "error",
     "traceback": [
      "\u001b[1;31m---------------------------------------------------------------------------\u001b[0m",
      "\u001b[1;31mTypeError\u001b[0m                                 Traceback (most recent call last)",
      "Cell \u001b[1;32mIn[21], line 4\u001b[0m\n\u001b[0;32m      2\u001b[0m y \u001b[38;5;241m=\u001b[39m \u001b[38;5;241m9.99\u001b[39m\n\u001b[0;32m      3\u001b[0m z \u001b[38;5;241m=\u001b[39m \u001b[38;5;241m9\u001b[39m\n\u001b[1;32m----> 4\u001b[0m a \u001b[38;5;241m=\u001b[39m \u001b[38;5;28mfloat\u001b[39m(x)\n\u001b[0;32m      5\u001b[0m b \u001b[38;5;241m=\u001b[39m \u001b[38;5;28mint\u001b[39m(y)\n\u001b[0;32m      6\u001b[0m c \u001b[38;5;241m=\u001b[39m \u001b[38;5;28mcomplex\u001b[39m(y)\n",
      "\u001b[1;31mTypeError\u001b[0m: float() argument must be a string or a real number, not 'complex'"
     ]
    }
   ],
   "source": [
    "x = 9j\n",
    "y = 9.99\n",
    "z = 9\n",
    "a = float(x)\n",
    "b = int(y)\n",
    "c = complex(y)\n",
    "d = complex(y)\n",
    "print(a)\n",
    "print(b)\n",
    "print(c)\n",
    "print(d)"
   ]
  },
  {
   "cell_type": "code",
   "execution_count": 23,
   "id": "4500341d-1b1b-4b87-ae1e-f30251f8faf6",
   "metadata": {},
   "outputs": [
    {
     "name": "stdout",
     "output_type": "stream",
     "text": [
      "<class 'int'>\n",
      "<class 'float'>\n",
      "<class 'complex'>\n"
     ]
    }
   ],
   "source": [
    "x = 50\n",
    "y = 72.19 \n",
    "z = 8j  \n",
    "print(type(x))\n",
    "print(type(y))\n",
    "print(type(z))"
   ]
  },
  {
   "cell_type": "code",
   "execution_count": 25,
   "id": "731a2771-e93f-4028-b033-bcec9d58f25e",
   "metadata": {},
   "outputs": [
    {
     "name": "stdout",
     "output_type": "stream",
     "text": [
      "50.0\n",
      "72\n",
      "(72.19+0j)\n",
      "(72.19+0j)\n"
     ]
    }
   ],
   "source": [
    "x = 50\n",
    "y = 72.19\n",
    "z = 8j\n",
    "a = float(x)\n",
    "b = int(y)\n",
    "c = complex(y)\n",
    "d = complex(y)\n",
    "print(a)\n",
    "print(b)\n",
    "print(c)\n",
    "print(d)"
   ]
  },
  {
   "cell_type": "code",
   "execution_count": 27,
   "id": "2341f53c-aa02-46cf-ac84-9e817d7e49a3",
   "metadata": {},
   "outputs": [
    {
     "name": "stdout",
     "output_type": "stream",
     "text": [
      "21.0\n",
      "14\n",
      "(14.2+0j)\n",
      "(14.2+0j)\n"
     ]
    }
   ],
   "source": [
    "x = 21\n",
    "y = 14.20\n",
    "z = 14j\n",
    "a = float(x)\n",
    "b = int(y)\n",
    "c = complex(y)\n",
    "d = complex(y)\n",
    "print(a)\n",
    "print(b)\n",
    "print(c)\n",
    "print(d)"
   ]
  },
  {
   "cell_type": "code",
   "execution_count": 29,
   "id": "30616b92-c8fe-4bd7-a00a-55c15995cb2b",
   "metadata": {},
   "outputs": [
    {
     "name": "stdout",
     "output_type": "stream",
     "text": [
      "21.0\n",
      "6\n",
      "(6.23+0j)\n",
      "(6.23+0j)\n"
     ]
    }
   ],
   "source": [
    "x = 21\n",
    "y = 6.23\n",
    "z = 6j\n",
    "a = float(x)\n",
    "b = int(y)\n",
    "c = complex(y)\n",
    "d = complex(y)\n",
    "print(a)\n",
    "print(b)\n",
    "print(c)\n",
    "print(d)"
   ]
  },
  {
   "cell_type": "code",
   "execution_count": 31,
   "id": "70f43474-0dd0-4eaa-9cc7-683c4ba3543f",
   "metadata": {},
   "outputs": [
    {
     "ename": "TypeError",
     "evalue": "float() argument must be a string or a real number, not 'complex'",
     "output_type": "error",
     "traceback": [
      "\u001b[1;31m---------------------------------------------------------------------------\u001b[0m",
      "\u001b[1;31mTypeError\u001b[0m                                 Traceback (most recent call last)",
      "Cell \u001b[1;32mIn[31], line 7\u001b[0m\n\u001b[0;32m      5\u001b[0m b \u001b[38;5;241m=\u001b[39m \u001b[38;5;28mint\u001b[39m(y)\n\u001b[0;32m      6\u001b[0m c \u001b[38;5;241m=\u001b[39m \u001b[38;5;28mcomplex\u001b[39m(y)\n\u001b[1;32m----> 7\u001b[0m d \u001b[38;5;241m=\u001b[39m \u001b[38;5;28mfloat\u001b[39m(z)\n\u001b[0;32m      8\u001b[0m \u001b[38;5;28mprint\u001b[39m(a)\n\u001b[0;32m      9\u001b[0m \u001b[38;5;28mprint\u001b[39m(b)\n",
      "\u001b[1;31mTypeError\u001b[0m: float() argument must be a string or a real number, not 'complex'"
     ]
    }
   ],
   "source": [
    "x = 9\n",
    "y = 9.99\n",
    "z = 9j\n",
    "a = float(x)\n",
    "b = int(y)\n",
    "c = complex(y)\n",
    "d = float(z)\n",
    "print(a)\n",
    "print(b)\n",
    "print(c)\n",
    "print(d)"
   ]
  },
  {
   "cell_type": "code",
   "execution_count": 33,
   "id": "5fb3653e-abbe-4929-bdd1-e110afb528a9",
   "metadata": {},
   "outputs": [
    {
     "name": "stdout",
     "output_type": "stream",
     "text": [
      "2.0\n",
      "2\n",
      "(2.22+0j)\n",
      "(2.22+0j)\n"
     ]
    }
   ],
   "source": [
    "x = 2\n",
    "y = 2.22\n",
    "z = 2j\n",
    "a = float(x)\n",
    "b = int(y)\n",
    "c = complex(y)\n",
    "d = complex(y)\n",
    "print(a)\n",
    "print(b)\n",
    "print(c)\n",
    "print(d)"
   ]
  },
  {
   "cell_type": "code",
   "execution_count": null,
   "id": "cd463f7b-f851-49e5-abf3-bca34ac77e91",
   "metadata": {},
   "outputs": [],
   "source": []
  }
 ],
 "metadata": {
  "kernelspec": {
   "display_name": "Python 3 (ipykernel)",
   "language": "python",
   "name": "python3"
  },
  "language_info": {
   "codemirror_mode": {
    "name": "ipython",
    "version": 3
   },
   "file_extension": ".py",
   "mimetype": "text/x-python",
   "name": "python",
   "nbconvert_exporter": "python",
   "pygments_lexer": "ipython3",
   "version": "3.12.4"
  }
 },
 "nbformat": 4,
 "nbformat_minor": 5
}
