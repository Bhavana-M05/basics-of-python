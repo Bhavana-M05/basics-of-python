{
 "cells": [
  {
   "cell_type": "code",
   "execution_count": 5,
   "id": "4f7dbeff-46b1-49c3-ba4f-c4e6d98a56d9",
   "metadata": {},
   "outputs": [
    {
     "name": "stdout",
     "output_type": "stream",
     "text": [
      "20\n"
     ]
    }
   ],
   "source": [
    "a = 20\n",
    "print(a)"
   ]
  },
  {
   "cell_type": "code",
   "execution_count": 9,
   "id": "69a7bb50-7270-4067-8b4f-4730d9d5931d",
   "metadata": {},
   "outputs": [
    {
     "name": "stdout",
     "output_type": "stream",
     "text": [
      "100\n"
     ]
    }
   ],
   "source": [
    "_A = 100\n",
    "print(_A)"
   ]
  },
  {
   "cell_type": "code",
   "execution_count": 11,
   "id": "97923a4c-4f7c-4501-b263-8d13d00800c7",
   "metadata": {},
   "outputs": [
    {
     "name": "stdout",
     "output_type": "stream",
     "text": [
      "20\n"
     ]
    }
   ],
   "source": [
    "K = 20\n",
    "print(K)"
   ]
  },
  {
   "cell_type": "code",
   "execution_count": 15,
   "id": "a7fe2062-e04a-4758-a2f3-80dd52235739",
   "metadata": {},
   "outputs": [
    {
     "name": "stdout",
     "output_type": "stream",
     "text": [
      "2\n"
     ]
    }
   ],
   "source": [
    "b = 2\n",
    "print(b)"
   ]
  },
  {
   "cell_type": "code",
   "execution_count": 17,
   "id": "b048b989-1977-4d89-8d8c-1d37b47b6710",
   "metadata": {},
   "outputs": [
    {
     "name": "stdout",
     "output_type": "stream",
     "text": [
      "2\n"
     ]
    }
   ],
   "source": [
    "B = 2\n",
    "print(B)"
   ]
  },
  {
   "cell_type": "code",
   "execution_count": 19,
   "id": "7a4dac00-ac79-4293-971c-1a54fd88e93e",
   "metadata": {},
   "outputs": [
    {
     "name": "stdout",
     "output_type": "stream",
     "text": [
      "2\n"
     ]
    }
   ],
   "source": [
    "_B = 2\n",
    "print(_B)"
   ]
  },
  {
   "cell_type": "code",
   "execution_count": 21,
   "id": "e2a7a55d-cd28-459c-829b-5e794f71a079",
   "metadata": {},
   "outputs": [
    {
     "name": "stdout",
     "output_type": "stream",
     "text": [
      "2\n"
     ]
    }
   ],
   "source": [
    "_b = 2\n",
    "print(_b)"
   ]
  },
  {
   "cell_type": "code",
   "execution_count": 25,
   "id": "b978917d-b18e-48fa-8892-3cad55953e37",
   "metadata": {},
   "outputs": [
    {
     "name": "stdout",
     "output_type": "stream",
     "text": [
      "3\n"
     ]
    }
   ],
   "source": [
    "c = 3\n",
    "print(c)"
   ]
  },
  {
   "cell_type": "code",
   "execution_count": 27,
   "id": "370d8f1d-269d-4f2c-ab76-c72342717853",
   "metadata": {},
   "outputs": [
    {
     "name": "stdout",
     "output_type": "stream",
     "text": [
      "3\n"
     ]
    }
   ],
   "source": [
    "C = 3\n",
    "print(C)"
   ]
  },
  {
   "cell_type": "code",
   "execution_count": 29,
   "id": "2cb64e84-c490-4b4f-a18d-e3aea286da64",
   "metadata": {},
   "outputs": [
    {
     "name": "stdout",
     "output_type": "stream",
     "text": [
      "3\n"
     ]
    }
   ],
   "source": [
    "_c = 3\n",
    "print(_c)"
   ]
  },
  {
   "cell_type": "code",
   "execution_count": 35,
   "id": "38026386-e915-45e3-a7f9-b8d0e38efffb",
   "metadata": {},
   "outputs": [
    {
     "name": "stdout",
     "output_type": "stream",
     "text": [
      "3\n"
     ]
    }
   ],
   "source": [
    "_C = 3\n",
    "print(_C)\n"
   ]
  },
  {
   "cell_type": "code",
   "execution_count": 37,
   "id": "f845eba3-6aba-43b3-a6ac-3570f6c22d8c",
   "metadata": {},
   "outputs": [
    {
     "name": "stdout",
     "output_type": "stream",
     "text": [
      "4\n"
     ]
    }
   ],
   "source": [
    "d = 4\n",
    "print(d)"
   ]
  },
  {
   "cell_type": "code",
   "execution_count": 39,
   "id": "0c49127e-030c-427b-8987-37c60fa46c5d",
   "metadata": {},
   "outputs": [
    {
     "name": "stdout",
     "output_type": "stream",
     "text": [
      "4\n"
     ]
    }
   ],
   "source": [
    "D = 4\n",
    "print(D)"
   ]
  },
  {
   "cell_type": "code",
   "execution_count": 41,
   "id": "387afd9e-109d-44d6-bfea-d844bb111acb",
   "metadata": {},
   "outputs": [
    {
     "name": "stdout",
     "output_type": "stream",
     "text": [
      "4\n"
     ]
    }
   ],
   "source": [
    "_d = 4\n",
    "print(_d)"
   ]
  },
  {
   "cell_type": "code",
   "execution_count": 49,
   "id": "7bbb8986-f339-4bc2-a9bc-4215d31b3e01",
   "metadata": {},
   "outputs": [
    {
     "name": "stdout",
     "output_type": "stream",
     "text": [
      "4\n"
     ]
    }
   ],
   "source": [
    "_D = 4\n",
    "print(_D)"
   ]
  },
  {
   "cell_type": "code",
   "execution_count": 51,
   "id": "8272b30c-e87a-4ac6-9a7e-309db7d91735",
   "metadata": {},
   "outputs": [
    {
     "name": "stdout",
     "output_type": "stream",
     "text": [
      "5\n"
     ]
    }
   ],
   "source": [
    "e = 5\n",
    "print(e)"
   ]
  },
  {
   "cell_type": "code",
   "execution_count": 53,
   "id": "8288e61f-5398-4ee7-ad9f-a3bd627bcba1",
   "metadata": {},
   "outputs": [
    {
     "name": "stdout",
     "output_type": "stream",
     "text": [
      "5\n"
     ]
    }
   ],
   "source": [
    "E = 5\n",
    "print(E)"
   ]
  },
  {
   "cell_type": "code",
   "execution_count": 55,
   "id": "b82e6efb-ac21-4088-8873-edc1a8575e29",
   "metadata": {},
   "outputs": [
    {
     "name": "stdout",
     "output_type": "stream",
     "text": [
      "5\n"
     ]
    }
   ],
   "source": [
    "_e = 5\n",
    "print(_e)"
   ]
  },
  {
   "cell_type": "code",
   "execution_count": 57,
   "id": "ef48e927-418a-4ab4-a4c2-d5a32863fc02",
   "metadata": {},
   "outputs": [
    {
     "name": "stdout",
     "output_type": "stream",
     "text": [
      "5\n"
     ]
    }
   ],
   "source": [
    "_E = 5\n",
    "print(_E)"
   ]
  },
  {
   "cell_type": "code",
   "execution_count": 59,
   "id": "2898e24e-b4c2-4d69-9f04-9d7c49b9b3c5",
   "metadata": {},
   "outputs": [
    {
     "name": "stdout",
     "output_type": "stream",
     "text": [
      "7\n"
     ]
    }
   ],
   "source": [
    "_7 = 7\n",
    "print(_7)"
   ]
  },
  {
   "cell_type": "code",
   "execution_count": 61,
   "id": "0e78fa81-971f-45fd-8ac6-a6b8c7ed2633",
   "metadata": {},
   "outputs": [
    {
     "name": "stdout",
     "output_type": "stream",
     "text": [
      "8\n"
     ]
    }
   ],
   "source": [
    "_8 = 8\n",
    "print(_8)"
   ]
  },
  {
   "cell_type": "code",
   "execution_count": 63,
   "id": "4ecc4731-2fdf-4356-85b5-f404ea793c10",
   "metadata": {},
   "outputs": [
    {
     "name": "stdout",
     "output_type": "stream",
     "text": [
      "20\n"
     ]
    }
   ],
   "source": [
    "_20 = 20\n",
    "print(_20)"
   ]
  },
  {
   "cell_type": "code",
   "execution_count": null,
   "id": "aad1bf60-03c2-4987-8a98-be67b9ee66ee",
   "metadata": {},
   "outputs": [],
   "source": []
  }
 ],
 "metadata": {
  "kernelspec": {
   "display_name": "Python 3 (ipykernel)",
   "language": "python",
   "name": "python3"
  },
  "language_info": {
   "codemirror_mode": {
    "name": "ipython",
    "version": 3
   },
   "file_extension": ".py",
   "mimetype": "text/x-python",
   "name": "python",
   "nbconvert_exporter": "python",
   "pygments_lexer": "ipython3",
   "version": "3.12.4"
  }
 },
 "nbformat": 4,
 "nbformat_minor": 5
}
