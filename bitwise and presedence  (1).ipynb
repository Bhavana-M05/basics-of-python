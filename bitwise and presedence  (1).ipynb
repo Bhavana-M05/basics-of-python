{
 "cells": [
  {
   "cell_type": "code",
   "execution_count": 3,
   "id": "150e67e5-5d60-4165-877c-3bf3784e6d58",
   "metadata": {},
   "outputs": [
    {
     "name": "stdout",
     "output_type": "stream",
     "text": [
      "8\n",
      "15\n",
      "7\n"
     ]
    }
   ],
   "source": [
    "x = 9 \n",
    "y = 14\n",
    "print(x&y)\n",
    "print(x|y)\n",
    "print(x^y)"
   ]
  },
  {
   "cell_type": "code",
   "execution_count": 5,
   "id": "3b471476-6c65-4117-8b19-051bccf56819",
   "metadata": {},
   "outputs": [
    {
     "name": "stdout",
     "output_type": "stream",
     "text": [
      "430\n",
      "447\n",
      "17\n"
     ]
    }
   ],
   "source": [
    "x = 447\n",
    "y = 430\n",
    "print(x&y)\n",
    "print(x|y)\n",
    "print(x^y)"
   ]
  },
  {
   "cell_type": "code",
   "execution_count": 7,
   "id": "e1758350-3092-4a80-be25-9268fb02a3dc",
   "metadata": {},
   "outputs": [
    {
     "name": "stdout",
     "output_type": "stream",
     "text": [
      "1\n",
      "335\n",
      "334\n"
     ]
    }
   ],
   "source": [
    "x = 333\n",
    "y = 3\n",
    "print(x&y)\n",
    "print(x|y)\n",
    "print(x^y)"
   ]
  },
  {
   "cell_type": "code",
   "execution_count": 9,
   "id": "758a4b93-0317-43a3-a806-1b754656af22",
   "metadata": {},
   "outputs": [
    {
     "name": "stdout",
     "output_type": "stream",
     "text": [
      "449\n",
      "2015\n",
      "1566\n"
     ]
    }
   ],
   "source": [
    "x = 971\n",
    "y = 1493\n",
    "print(x&y)\n",
    "print(x|y)\n",
    "print(x^y)"
   ]
  },
  {
   "cell_type": "code",
   "execution_count": 13,
   "id": "e326030c-af01-49d1-a9b8-919b61fdcb4f",
   "metadata": {},
   "outputs": [
    {
     "name": "stdout",
     "output_type": "stream",
     "text": [
      "-28\n"
     ]
    }
   ],
   "source": [
    "n = 27\n",
    "print(~n)"
   ]
  },
  {
   "cell_type": "code",
   "execution_count": 15,
   "id": "3706684d-d2c3-45ff-8ff6-d2e3c1c3be35",
   "metadata": {},
   "outputs": [
    {
     "name": "stdout",
     "output_type": "stream",
     "text": [
      "-57\n"
     ]
    }
   ],
   "source": [
    "n = 56\n",
    "print(~n)"
   ]
  },
  {
   "cell_type": "code",
   "execution_count": 17,
   "id": "d58dd526-f802-4dad-ba4e-94fb1567b83b",
   "metadata": {},
   "outputs": [
    {
     "name": "stdout",
     "output_type": "stream",
     "text": [
      "-421\n"
     ]
    }
   ],
   "source": [
    "n = 420\n",
    "print(~n)"
   ]
  },
  {
   "cell_type": "code",
   "execution_count": 19,
   "id": "03cb7f07-9492-45db-a6e4-fa3c568d78cd",
   "metadata": {},
   "outputs": [
    {
     "name": "stdout",
     "output_type": "stream",
     "text": [
      "-77\n"
     ]
    }
   ],
   "source": [
    "n = 76\n",
    "print(~n)"
   ]
  },
  {
   "cell_type": "code",
   "execution_count": 21,
   "id": "5f85d8ac-f602-4172-9452-3c23bbab8998",
   "metadata": {},
   "outputs": [
    {
     "name": "stdout",
     "output_type": "stream",
     "text": [
      "38256\n"
     ]
    }
   ],
   "source": [
    "x = 2391\n",
    "y = 4\n",
    "print(x<<y)"
   ]
  },
  {
   "cell_type": "code",
   "execution_count": 25,
   "id": "b51016e5-2704-4f6f-80c2-ddbf6a8da55a",
   "metadata": {},
   "outputs": [
    {
     "name": "stdout",
     "output_type": "stream",
     "text": [
      "28764\n"
     ]
    }
   ],
   "source": [
    "x = 7191\n",
    "y = 2\n",
    "print(x<<y)"
   ]
  },
  {
   "cell_type": "code",
   "execution_count": 27,
   "id": "dad841ac-398f-4eb4-8f2f-65f39b298f8d",
   "metadata": {},
   "outputs": [
    {
     "name": "stdout",
     "output_type": "stream",
     "text": [
      "2560\n"
     ]
    }
   ],
   "source": [
    "x = 5121\n",
    "y = 1\n",
    "print(x>>y)"
   ]
  },
  {
   "cell_type": "code",
   "execution_count": 29,
   "id": "8decd6c5-4534-4bf1-82ac-efd9531a51a0",
   "metadata": {},
   "outputs": [
    {
     "name": "stdout",
     "output_type": "stream",
     "text": [
      "378\n"
     ]
    }
   ],
   "source": [
    "x = 3029\n",
    "y = 3\n",
    "print(x>>y)"
   ]
  },
  {
   "cell_type": "code",
   "execution_count": 59,
   "id": "368f6aa0-c26a-4207-9057-da0752334405",
   "metadata": {},
   "outputs": [
    {
     "name": "stdout",
     "output_type": "stream",
     "text": [
      "-21\n"
     ]
    }
   ],
   "source": [
    "x = 2+9-4*(3+1)*2\n",
    "print(x)"
   ]
  },
  {
   "cell_type": "code",
   "execution_count": 57,
   "id": "db8ea23b-f400-42bc-be93-ccbe0db638b8",
   "metadata": {},
   "outputs": [
    {
     "name": "stdout",
     "output_type": "stream",
     "text": [
      "-101396\n"
     ]
    }
   ],
   "source": [
    "y = 2991+31-11602*9\n",
    "print(y)"
   ]
  },
  {
   "cell_type": "code",
   "execution_count": null,
   "id": "0ebb06ae-11f7-45e3-9547-0529cd0c6cb6",
   "metadata": {},
   "outputs": [],
   "source": []
  }
 ],
 "metadata": {
  "kernelspec": {
   "display_name": "Python 3 (ipykernel)",
   "language": "python",
   "name": "python3"
  },
  "language_info": {
   "codemirror_mode": {
    "name": "ipython",
    "version": 3
   },
   "file_extension": ".py",
   "mimetype": "text/x-python",
   "name": "python",
   "nbconvert_exporter": "python",
   "pygments_lexer": "ipython3",
   "version": "3.12.4"
  }
 },
 "nbformat": 4,
 "nbformat_minor": 5
}
