{
 "cells": [
  {
   "cell_type": "code",
   "execution_count": 23,
   "id": "676c5b64-8388-471c-9e5a-71c1d7969964",
   "metadata": {},
   "outputs": [],
   "source": [
    "my_list = []\n",
    "numbers = [1,2,3,4,5,6]\n",
    "names = [\"bhavana\",\"khyathi\",\"keerthi\",\"ajitha\"]\n",
    "mixed_types = [1, \"bhavana\",5.63,True]"
   ]
  },
  {
   "cell_type": "code",
   "execution_count": 25,
   "id": "fccb4cde-aea2-4298-9881-225f360a89f6",
   "metadata": {},
   "outputs": [
    {
     "name": "stdout",
     "output_type": "stream",
     "text": [
      "<class 'list'>\n"
     ]
    }
   ],
   "source": [
    "print(type(mixed_types))"
   ]
  },
  {
   "cell_type": "code",
   "execution_count": 29,
   "id": "496ff657-b1a3-406e-b462-a946edec69f3",
   "metadata": {},
   "outputs": [
    {
     "name": "stdout",
     "output_type": "stream",
     "text": [
      "chicken\n",
      "combo\n"
     ]
    }
   ],
   "source": [
    "language = [\"burger\",\"chesse\",\"chicken\",\"combo\"]\n",
    "print(language[2])\n",
    "print(language[-1])"
   ]
  },
  {
   "cell_type": "code",
   "execution_count": 37,
   "id": "a457a9a3-8c82-4465-8285-1f037e8c568a",
   "metadata": {},
   "outputs": [
    {
     "name": "stdout",
     "output_type": "stream",
     "text": [
      "['e']\n",
      "['c', 'd', 'e', 'f', 'g', 'h']\n",
      "['a', 'b', 'c', 'd', 'e', 'f', 'g', 'h']\n"
     ]
    }
   ],
   "source": [
    "my_list = ['a', 'b','c','d','e','f','g','h']\n",
    "print(my_list[4:5])\n",
    "print(my_list[2:])\n",
    "print(my_list[:])"
   ]
  },
  {
   "cell_type": "code",
   "execution_count": 47,
   "id": "35a42a1f-6ec0-4227-b880-0da74c210bae",
   "metadata": {},
   "outputs": [
    {
     "name": "stdout",
     "output_type": "stream",
     "text": [
      "[1, 2, 3, 4, 4, 5, 6, 7]\n"
     ]
    }
   ],
   "source": [
    "#list operators\n",
    "# concatenation\n",
    "a = [1,2,3,4]\n",
    "b = [4,5,6,7]\n",
    "c = a+b\n",
    "print(c)"
   ]
  },
  {
   "cell_type": "code",
   "execution_count": 49,
   "id": "5a65ddeb-25a8-468c-99ec-ece00a4efd21",
   "metadata": {},
   "outputs": [
    {
     "name": "stdout",
     "output_type": "stream",
     "text": [
      "['apple', 'banana', 'cat', 'dog', 'elephant', 'fish', 'goat']\n"
     ]
    }
   ],
   "source": [
    "a = ['apple', 'banana', 'cat', 'dog']\n",
    "b = ['elephant', 'fish' , 'goat']\n",
    "c = a+b\n",
    "print(c)"
   ]
  },
  {
   "cell_type": "code",
   "execution_count": 73,
   "id": "df53a851-4d1d-49ce-a9bc-61b4f7685726",
   "metadata": {},
   "outputs": [
    {
     "name": "stdout",
     "output_type": "stream",
     "text": [
      "[1, 2, 3, 4, 5, 1, 2, 3, 4, 5, 1, 2, 3, 4, 5, 1, 2, 3, 4, 5, 1, 2, 3, 4, 5]\n",
      "['apple', 'banana', 'cat', 'apple', 'banana', 'cat', 'apple', 'banana', 'cat', 'apple', 'banana', 'cat', 'apple', 'banana', 'cat', 'apple', 'banana', 'cat', 'apple', 'banana', 'cat', 'apple', 'banana', 'cat', 'apple', 'banana', 'cat', 'apple', 'banana', 'cat']\n"
     ]
    }
   ],
   "source": [
    "#repetition\n",
    "a = [1,2,3,4,5]\n",
    "b = [6,7,8,9,10]\n",
    "c = a*5\n",
    "a = ['apple', 'banana','cat']\n",
    "b = ['dog','elephant']\n",
    "e = a*10\n",
    "print(c)\n",
    "print(e)"
   ]
  },
  {
   "cell_type": "code",
   "execution_count": 55,
   "id": "d479345e-cc30-4f88-ba01-891ff1024d44",
   "metadata": {},
   "outputs": [
    {
     "name": "stdout",
     "output_type": "stream",
     "text": [
      "['dog', 'elephant', 'dog', 'elephant', 'dog', 'elephant', 'dog', 'elephant', 'dog', 'elephant', 'dog', 'elephant', 'dog', 'elephant']\n"
     ]
    }
   ],
   "source": [
    "a = ['apple', 'banana','cat']\n",
    "b = ['dog','elephant']\n",
    "c = b*7\n",
    "print(c)"
   ]
  },
  {
   "cell_type": "code",
   "execution_count": 75,
   "id": "6f8041f8-4600-4d0d-b730-aa479671340e",
   "metadata": {},
   "outputs": [
    {
     "name": "stdout",
     "output_type": "stream",
     "text": [
      "['apple', 'banana', 'dog']\n",
      "[1, 2, 3]\n"
     ]
    }
   ],
   "source": [
    "#changing list items\n",
    "b = ['apple','banana','cat']\n",
    "b[2]='dog'\n",
    "c = [1,2,4]\n",
    "c[2]=3\n",
    "print(b)\n",
    "print(c)"
   ]
  },
  {
   "cell_type": "code",
   "execution_count": 93,
   "id": "3108a086-edc8-4719-8d5a-d8114f7f7063",
   "metadata": {},
   "outputs": [
    {
     "name": "stdout",
     "output_type": "stream",
     "text": [
      "['beetroot', 'Blackcurrent', 'watermelon', 'cucumber', 'ginger']\n",
      "[1, 2, 8, 9, 6]\n"
     ]
    }
   ],
   "source": [
    "#changing a range of item values\n",
    "thislist= ['beetroot','carrot','potato','tomato','cucumber','ginger']\n",
    "thislist[1:4]=['Blackcurrent','watermelon']\n",
    "mylist=[1,2,4,5,6]\n",
    "mylist[2:4]=[8,9]\n",
    "print(thislist)\n",
    "print(mylist)"
   ]
  },
  {
   "cell_type": "code",
   "execution_count": 97,
   "id": "2fc06c92-28dd-4165-b1ac-b17a1d7e0b53",
   "metadata": {},
   "outputs": [
    {
     "name": "stdout",
     "output_type": "stream",
     "text": [
      "[101, 102, 103, 104]\n",
      "['grapes', 'pineapple', 'jacfruit', 'dragonfruit']\n"
     ]
    }
   ],
   "source": [
    "#list methods\n",
    "#append()\n",
    "z = [101,102,103]\n",
    "z.append(104)\n",
    "y =['grapes','pineapple','jacfruit']\n",
    "y.append('dragonfruit')\n",
    "print(z)\n",
    "print(y)"
   ]
  },
  {
   "cell_type": "code",
   "execution_count": 99,
   "id": "1977e44f-cbda-4600-b178-01bb851e329b",
   "metadata": {},
   "outputs": [
    {
     "name": "stdout",
     "output_type": "stream",
     "text": [
      "[1, 2, 3, 4, 5, 6, 7]\n",
      "['biriyani', 'chicken', 'fry peace', 'coke']\n"
     ]
    }
   ],
   "source": [
    "#extend()\n",
    "z = [1,2,3]\n",
    "y =[4,5,6,7]\n",
    "z.extend(y)\n",
    "a = ['biriyani','chicken']\n",
    "b = ['fry peace','coke']\n",
    "a.extend(b)\n",
    "print(z)\n",
    "print(a)"
   ]
  },
  {
   "cell_type": "code",
   "execution_count": 121,
   "id": "c1f6689b-d467-472e-8214-159cfebdae6a",
   "metadata": {},
   "outputs": [
    {
     "name": "stdout",
     "output_type": "stream",
     "text": [
      "[1, 5, 2, 3]\n",
      "[98, 876, 543, 234]\n"
     ]
    }
   ],
   "source": [
    "#insert()\n",
    "a = [1,2,3]\n",
    "a.insert(1,5)\n",
    "b = [98,876,543]\n",
    "b.insert(543,234)\n",
    "print(a)\n",
    "print(b)"
   ]
  },
  {
   "cell_type": "code",
   "execution_count": 127,
   "id": "61e07119-3e95-4960-8b79-7b92c9c79cd2",
   "metadata": {},
   "outputs": [
    {
     "name": "stdout",
     "output_type": "stream",
     "text": [
      "[1, 2, 3, 5, 4, 5, 4, 6]\n",
      "[3, 2, 3, 4, 2, 4]\n"
     ]
    }
   ],
   "source": [
    "#remove\n",
    "numbers = [1,2,3,4,5,4,5,4,6]\n",
    "numbers.remove(4)\n",
    "number = [2,3,2,3,4,2,4]\n",
    "number.remove(2)\n",
    "print(numbers)\n",
    "print(number)"
   ]
  },
  {
   "cell_type": "code",
   "execution_count": 133,
   "id": "706fe856-c9cd-431f-ba1a-64b702a23a43",
   "metadata": {},
   "outputs": [
    {
     "name": "stdout",
     "output_type": "stream",
     "text": [
      "[1, 2, 3, 4, 5, 7, 9]\n",
      "[9, 8, 7, 6]\n"
     ]
    }
   ],
   "source": [
    "#pop()\n",
    "numbers = [1,2,3,4,5,7,8,9]\n",
    "numbers.pop(6)\n",
    "number = [9,8,7,6,5]\n",
    "number.pop(4)\n",
    "print(numbers)\n",
    "print(number)"
   ]
  },
  {
   "cell_type": "code",
   "execution_count": 141,
   "id": "94231f43-5e07-4db0-9c03-8ccfdb153112",
   "metadata": {},
   "outputs": [
    {
     "name": "stdout",
     "output_type": "stream",
     "text": [
      "4\n"
     ]
    }
   ],
   "source": [
    "#index()\n",
    "numbers=[10,20,20,40,30,20,30,30,30,40]\n",
    "index = numbers.index(30)\n",
    "print(index)"
   ]
  },
  {
   "cell_type": "code",
   "execution_count": 143,
   "id": "e08f81ed-3f1c-4056-a7a6-4719b289ee49",
   "metadata": {},
   "outputs": [
    {
     "name": "stdout",
     "output_type": "stream",
     "text": [
      "6\n"
     ]
    }
   ],
   "source": [
    "#count()\n",
    "numbers = [2,2,4,6,2,8,2,10,2,3,4,5,6,2]\n",
    "count = numbers.count(2)\n",
    "print(count)\n",
    "                      "
   ]
  },
  {
   "cell_type": "code",
   "execution_count": null,
   "id": "f15d9984-6c68-4fdb-99bd-8f38aea66827",
   "metadata": {},
   "outputs": [],
   "source": [
    "#sort()\n",
    "numbers = [6,3,2,6,7,9,4,2,6,8]\n",
    "numbers.sort"
   ]
  }
 ],
 "metadata": {
  "kernelspec": {
   "display_name": "Python 3 (ipykernel)",
   "language": "python",
   "name": "python3"
  },
  "language_info": {
   "codemirror_mode": {
    "name": "ipython",
    "version": 3
   },
   "file_extension": ".py",
   "mimetype": "text/x-python",
   "name": "python",
   "nbconvert_exporter": "python",
   "pygments_lexer": "ipython3",
   "version": "3.12.4"
  }
 },
 "nbformat": 4,
 "nbformat_minor": 5
}
