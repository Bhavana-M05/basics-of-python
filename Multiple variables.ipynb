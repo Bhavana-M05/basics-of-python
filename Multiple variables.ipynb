{
 "cells": [
  {
   "cell_type": "code",
   "execution_count": 3,
   "id": "99071a11-260a-403a-8ff9-d7ffceaeb9c2",
   "metadata": {},
   "outputs": [
    {
     "name": "stdout",
     "output_type": "stream",
     "text": [
      "5 6 34\n"
     ]
    }
   ],
   "source": [
    "a,b,c=5,6,34\n",
    "print(a,b,c)"
   ]
  },
  {
   "cell_type": "code",
   "execution_count": 9,
   "id": "3acdf05f-73cc-4034-a9bd-0babf25fa531",
   "metadata": {},
   "outputs": [
    {
     "name": "stdout",
     "output_type": "stream",
     "text": [
      "dairymilk fivestar kitkat\n"
     ]
    }
   ],
   "source": [
    "x,y,z=\"dairymilk\",\"fivestar\",\"kitkat\"\n",
    "print(x,y,z)"
   ]
  },
  {
   "cell_type": "code",
   "execution_count": 13,
   "id": "d4008e1a-2f75-450d-9a3c-5eecc865923f",
   "metadata": {},
   "outputs": [
    {
     "name": "stdout",
     "output_type": "stream",
     "text": [
      "dairymilk\n",
      "kitkat\n",
      "fivestar\n"
     ]
    }
   ],
   "source": [
    "x,y,z=\"dairymilk\",\"kitkat\",\"fivestar\"\n",
    "print(x)\n",
    "print(y)\n",
    "print(z)"
   ]
  },
  {
   "cell_type": "code",
   "execution_count": 15,
   "id": "68a53f3b-298e-477f-ac0b-4c9261f86176",
   "metadata": {},
   "outputs": [
    {
     "name": "stdout",
     "output_type": "stream",
     "text": [
      "100\n",
      "100\n",
      "100\n"
     ]
    }
   ],
   "source": [
    "x=y=z= 100\n",
    "print(x)\n",
    "print(y)\n",
    "print(z)"
   ]
  },
  {
   "cell_type": "code",
   "execution_count": 19,
   "id": "f65a03c1-0cca-4f94-9b7f-4944df713edb",
   "metadata": {},
   "outputs": [
    {
     "name": "stdout",
     "output_type": "stream",
     "text": [
      "bhavana\n",
      "bhavana\n",
      "bhavana\n"
     ]
    }
   ],
   "source": [
    "x=y=z=\"bhavana\"\n",
    "print(x)\n",
    "print(y)\n",
    "print(z)"
   ]
  },
  {
   "cell_type": "code",
   "execution_count": 21,
   "id": "06527fb8-8520-4fe6-bf4b-6fa2ebd23d90",
   "metadata": {},
   "outputs": [
    {
     "name": "stdout",
     "output_type": "stream",
     "text": [
      "bhavana\n",
      "khyathi\n",
      "kavya\n"
     ]
    }
   ],
   "source": [
    "x,y,z = \"bhavana\", \"khyathi\", \"kavya\"\n",
    "print(x)\n",
    "print(y)\n",
    "print(z)"
   ]
  },
  {
   "cell_type": "code",
   "execution_count": 29,
   "id": "59447c94-3ec2-4bfd-a620-a12722acab94",
   "metadata": {},
   "outputs": [
    {
     "name": "stdout",
     "output_type": "stream",
     "text": [
      "burger\n",
      "burger\n",
      "burger\n"
     ]
    }
   ],
   "source": [
    "x=y=z = \"burger\"\n",
    "print(x)\n",
    "print(y)\n",
    "print(z)"
   ]
  },
  {
   "cell_type": "code",
   "execution_count": 33,
   "id": "b838d41f-e585-403e-b17c-1b4a599bed3b",
   "metadata": {},
   "outputs": [
    {
     "name": "stdout",
     "output_type": "stream",
     "text": [
      "burger wrap tikka\n"
     ]
    }
   ],
   "source": [
    "x,y,z = \"burger\",\"wrap\",\"tikka\"\n",
    "print(x,y,z)"
   ]
  },
  {
   "cell_type": "code",
   "execution_count": 35,
   "id": "e6902daf-61e5-48ab-b664-521dbdc98876",
   "metadata": {},
   "outputs": [
    {
     "name": "stdout",
     "output_type": "stream",
     "text": [
      "1000\n",
      "1000\n",
      "1000\n"
     ]
    }
   ],
   "source": [
    "x=y=z = 1000\n",
    "print(x)\n",
    "print(y)\n",
    "print(z)"
   ]
  },
  {
   "cell_type": "code",
   "execution_count": 37,
   "id": "0a6de7d6-64ea-400c-90bf-1429bdae2fde",
   "metadata": {},
   "outputs": [
    {
     "name": "stdout",
     "output_type": "stream",
     "text": [
      "hp dell macbook\n"
     ]
    }
   ],
   "source": [
    "x,y,z = \"hp\",\"dell\",\"macbook\"\n",
    "print(x,y,z)"
   ]
  },
  {
   "cell_type": "code",
   "execution_count": null,
   "id": "4c914d23-dc1f-49bd-b899-cea584838d5a",
   "metadata": {},
   "outputs": [],
   "source": []
  }
 ],
 "metadata": {
  "kernelspec": {
   "display_name": "Python 3 (ipykernel)",
   "language": "python",
   "name": "python3"
  },
  "language_info": {
   "codemirror_mode": {
    "name": "ipython",
    "version": 3
   },
   "file_extension": ".py",
   "mimetype": "text/x-python",
   "name": "python",
   "nbconvert_exporter": "python",
   "pygments_lexer": "ipython3",
   "version": "3.12.4"
  }
 },
 "nbformat": 4,
 "nbformat_minor": 5
}
