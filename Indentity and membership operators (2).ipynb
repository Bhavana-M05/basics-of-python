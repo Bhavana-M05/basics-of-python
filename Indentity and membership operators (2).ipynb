{
 "cells": [
  {
   "cell_type": "code",
   "execution_count": 1,
   "id": "d0f4af01-5241-4b63-a91f-10ffa0fbdc9d",
   "metadata": {},
   "outputs": [
    {
     "name": "stdout",
     "output_type": "stream",
     "text": [
      "True\n",
      "True\n",
      "False\n"
     ]
    }
   ],
   "source": [
    "x1 = 6\n",
    "y1 = 6\n",
    "x2 = \"Burger\"\n",
    "y2 = \"Chicken Burger\"\n",
    "print(x1 is y1)\n",
    "print(x2 is not y2)\n",
    "print(y1 is x2)"
   ]
  },
  {
   "cell_type": "code",
   "execution_count": 3,
   "id": "4a2a376f-5d93-4930-9da5-0d29c56713c8",
   "metadata": {},
   "outputs": [
    {
     "name": "stdout",
     "output_type": "stream",
     "text": [
      "False\n",
      "True\n",
      "False\n",
      "True\n"
     ]
    }
   ],
   "source": [
    "x1 = 14\n",
    "y1 = 13\n",
    "x2 = \"Khyathi\"\n",
    "y2 = \"Khyathi Bhavana\"\n",
    "print(x1 is y2)\n",
    "print(x2 is not y2)\n",
    "print(y1 is x1)\n",
    "print(x1 is not y2)"
   ]
  },
  {
   "cell_type": "code",
   "execution_count": 5,
   "id": "4a9e6522-f596-4c82-b821-8db2170f6ea5",
   "metadata": {},
   "outputs": [
    {
     "name": "stdout",
     "output_type": "stream",
     "text": [
      "True\n",
      "Pizza not in y\n",
      "True\n",
      "False\n"
     ]
    }
   ],
   "source": [
    "x = \"Pizza\"\n",
    "y = [9,8,7,6,5,4]\n",
    "print('i' in x)\n",
    "print('Pizza not in y')\n",
    "print(7 in y)\n",
    "print('a' in y)"
   ]
  },
  {
   "cell_type": "code",
   "execution_count": 7,
   "id": "6b7ee438-aa99-4cf0-bbf8-543c2ebdef6c",
   "metadata": {},
   "outputs": [
    {
     "name": "stdout",
     "output_type": "stream",
     "text": [
      "True\n",
      "True\n",
      "False\n"
     ]
    }
   ],
   "source": [
    "x = \"Biriyani\"\n",
    "y = [4,5,6,7,8]\n",
    "print('r' in x)\n",
    "print(4 in y)\n",
    "print('n' not in x)"
   ]
  },
  {
   "cell_type": "code",
   "execution_count": null,
   "id": "b0244bef-cc39-4e9d-8024-3312791b6d86",
   "metadata": {},
   "outputs": [],
   "source": []
  }
 ],
 "metadata": {
  "kernelspec": {
   "display_name": "Python 3 (ipykernel)",
   "language": "python",
   "name": "python3"
  },
  "language_info": {
   "codemirror_mode": {
    "name": "ipython",
    "version": 3
   },
   "file_extension": ".py",
   "mimetype": "text/x-python",
   "name": "python",
   "nbconvert_exporter": "python",
   "pygments_lexer": "ipython3",
   "version": "3.12.4"
  }
 },
 "nbformat": 4,
 "nbformat_minor": 5
}
