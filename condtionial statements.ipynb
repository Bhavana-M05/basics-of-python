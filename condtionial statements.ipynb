{
 "cells": [
  {
   "cell_type": "code",
   "execution_count": 5,
   "id": "ab2ac340-b430-42db-b449-f54d3b5841e2",
   "metadata": {},
   "outputs": [
    {
     "name": "stdout",
     "output_type": "stream",
     "text": [
      "Eligible to vote:[34, 78, 23, 100, 91, 104, 205, 45]\n",
      "Ineligible to vote:[5, 1]\n"
     ]
    }
   ],
   "source": [
    "ages = [34, 5, 78, 23, 100, 91, 104, 205, 45, 1]\n",
    "eligible_ages = [] \n",
    "ineligible_ages = [] \n",
    "if ages[0] >= 18:\n",
    "    eligible_ages.append(ages[0])\n",
    "else:\n",
    "    ineligible_ages.append(ages[0])\n",
    "if ages[1] >= 18:\n",
    "    eligible_ages.append(ages[1])\n",
    "else:\n",
    "    ineligible_ages.append(ages[1])\n",
    "if ages[2] >= 18:\n",
    "    eligible_ages.append(ages[2])\n",
    "else:\n",
    "    ineligible_ages.append(ages[2])\n",
    "if ages[3] >= 18:\n",
    "    eligible_ages.append(ages[3])\n",
    "else:\n",
    "    ineligible_ages.append(ages[3])\n",
    "if ages[4] >= 18:\n",
    "    eligible_ages.append(ages[4])\n",
    "else:\n",
    "    ineligible_ages.append(ages[4])\n",
    "if ages[5] >= 18:\n",
    "    eligible_ages.append(ages[5])\n",
    "else:\n",
    "    ineligible_ages.append(ages[5])\n",
    "if ages[6] >= 18:\n",
    "    eligible_ages.append(ages[6])\n",
    "else:\n",
    "    ineligible_ages.append(ages[6])\n",
    "if ages[7] >= 18:\n",
    "    eligible_ages.append(ages[7])\n",
    "else:\n",
    "    ineligible_ages.append(ages[7])\n",
    "if ages[8] >= 18:\n",
    "    eligible_ages.append(ages[8])\n",
    "else:\n",
    "    ineligible_ages.append(ages[8])\n",
    "if ages[9] >= 18:\n",
    "    eligible_ages.append(ages[9])\n",
    "else:\n",
    "    ineligible_ages.append(ages[9])\n",
    "print(f\"Eligible to vote:{eligible_ages}\")\n",
    "print(f\"Ineligible to vote:{ineligible_ages}\")"
   ]
  },
  {
   "cell_type": "code",
   "execution_count": 3,
   "id": "a3cf2872-20ed-49d8-991d-1fa88857b146",
   "metadata": {},
   "outputs": [
    {
     "name": "stdin",
     "output_type": "stream",
     "text": [
      "Enter score: 77\n"
     ]
    },
    {
     "name": "stdout",
     "output_type": "stream",
     "text": [
      "Your grade:C\n"
     ]
    }
   ],
   "source": [
    "score = int(input(\"Enter score:\"))\n",
    "if score > 100:\n",
    "    grade = 'invalid value entered'\n",
    "elif score >=90:\n",
    "    grade = 'A'\n",
    "elif score >= 80:\n",
    "    grade = 'B'\n",
    "elif score >= 70:\n",
    "    grade = 'C'\n",
    "elif score >= 60:\n",
    "    grade = 'D'\n",
    "elif score >= 50:\n",
    "    grade = 'E'\n",
    "else:\n",
    "    grade = 'F'\n",
    "print(f\"Your grade:{grade}\")"
   ]
  },
  {
   "cell_type": "code",
   "execution_count": null,
   "id": "b2dc9c46-8e81-409d-ac42-86b193a0832a",
   "metadata": {},
   "outputs": [
    {
     "name": "stdout",
     "output_type": "stream",
     "text": [
      "Welcome to Pranay Restaurant\n",
      "Please select your menu type:\n",
      "Press '1' for vegetarian\n",
      "Press '2' for non-vegetarian\n"
     ]
    }
   ],
   "source": [
    "print(\"Welcome to Pranay Restaurant\")\n",
    "print(\"Please select your menu type:\")\n",
    "print(\"Press '1' for vegetarian\")\n",
    "print(\"Press '2' for non-vegetarian\")\n",
    "number = int(input())\n",
    "veg = [\"1.Veg pulav \", \"2. Sambar rice\", \"3. warm rice\", \"4. Masala channa\", \"5. Dahi kabab\"]\n",
    "non_veg = [\"1.chicken tikka\", \"2. Chicken frypeace biriyani\", \"3. chicken kebab\", \"4. Chicken 65\", \"5. prawns fry\"]\n",
    "v1,v2,v3,v4,v5 = veg\n",
    "vegunpack=v1+\", \"+v2+\", \"+v3+\", \"+v4+\", \"+v5\n",
    "n1,n2,n3,n4,n5 = non_veg\n",
    "non_vegunpack=n1+\", \"+n2+\", \"+n3+\", \"+n4+\", \"+n5\n",
    "if number == 1:\n",
    "    print(\"Select from the following dishes:\", vegunpack)\n",
    "    veg_dish = int(input(\"Please enter the number corresponding to your vegetarian dish: \"))\n",
    "    if veg_dish == 1 or veg_dish == 2 or veg_dish == 3 or veg_dish == 4 or veg_dish == 5:\n",
    "        print(\"Your order is getting prepared, please wait.\")\n",
    "    else:\n",
    "        print(\"Entered dish is not available.\")\n",
    "elif number == 2:\n",
    "    print(\"Select from the following dishes:\", non_vegunpack)\n",
    "    non_veg_dish = int(input(\"Please enter the number corresponding to your non-vegetarian dish: \"))\n",
    "    if non_veg_dish == 1 or non_veg_dish == 2 or non_veg_dish == 3 or non_veg_dish == 4 or non_veg_dish == 5:\n",
    "        print(\"Your order is getting prepared, please wait.\")\n",
    "    else:\n",
    "        print(\"Entered dish is not available.\")\n",
    "else:\n",
    "    print(\"Choose only between 1 and 2\")"
   ]
  },
  {
   "cell_type": "code",
   "execution_count": null,
   "id": "1890ae55-559f-41ea-a62f-45f9e38f9e2a",
   "metadata": {},
   "outputs": [],
   "source": []
  }
 ],
 "metadata": {
  "kernelspec": {
   "display_name": "Python 3 (ipykernel)",
   "language": "python",
   "name": "python3"
  },
  "language_info": {
   "codemirror_mode": {
    "name": "ipython",
    "version": 3
   },
   "file_extension": ".py",
   "mimetype": "text/x-python",
   "name": "python",
   "nbconvert_exporter": "python",
   "pygments_lexer": "ipython3",
   "version": "3.12.4"
  }
 },
 "nbformat": 4,
 "nbformat_minor": 5
}
