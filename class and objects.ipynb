{
 "cells": [
  {
   "cell_type": "code",
   "execution_count": 107,
   "id": "d2c0449a-96ef-4173-8954-0a76adca7526",
   "metadata": {},
   "outputs": [
    {
     "name": "stdout",
     "output_type": "stream",
     "text": [
      "inter\n"
     ]
    }
   ],
   "source": [
    "class parayanaschool:\n",
    "    z = \"inter\"\n",
    "obj1 = parayanaschool()\n",
    "print(obj1.z)\n",
    "    "
   ]
  },
  {
   "cell_type": "code",
   "execution_count": 111,
   "id": "c7c40022-e648-4fbd-9ed1-9d3399c96402",
   "metadata": {},
   "outputs": [
    {
     "name": "stdout",
     "output_type": "stream",
     "text": [
      "5005\n"
     ]
    }
   ],
   "source": [
    "class narayana:\n",
    "    a = 5005\n",
    "operation5k = narayana()\n",
    "print(operation5k.a)"
   ]
  },
  {
   "cell_type": "code",
   "execution_count": 113,
   "id": "18e412d3-e372-4c84-bf52-540312321c94",
   "metadata": {},
   "outputs": [
    {
     "name": "stdout",
     "output_type": "stream",
     "text": [
      "Bhavana is 20 years old.\n",
      "Khyathi is 21 years old.\n",
      "Ambaaaa!\n",
      "Ambaaaa!\n"
     ]
    }
   ],
   "source": [
    "class cow:\n",
    "    def __init__(my, name, age):\n",
    "        my.name = name\n",
    "        my.age = age\n",
    "    def bark(my):\n",
    "        print(\"Ambaaaa!\")\n",
    "cow1 = cow(\"Bhavana\",20)\n",
    "cow2 = cow(\"Khyathi\",21)\n",
    "print(f\"{cow1.name} is {cow1.age} years old.\")\n",
    "print(f\"{cow2.name} is {cow2.age} years old.\")\n",
    "cow1.bark()\n",
    "cow2.bark()"
   ]
  },
  {
   "cell_type": "code",
   "execution_count": 117,
   "id": "cf95dc21-30a4-439a-a226-d3e22f93ad42",
   "metadata": {},
   "outputs": [
    {
     "name": "stdout",
     "output_type": "stream",
     "text": [
      "Hai ambaaaa\n"
     ]
    }
   ],
   "source": [
    "class bhavana():\n",
    "    def __init__(bhavana):\n",
    "        print(\"Hai ambaaaa\")\n",
    "obj = self()"
   ]
  },
  {
   "cell_type": "code",
   "execution_count": 174,
   "id": "7da09e46-e7c4-425e-8d60-e0041bb881ab",
   "metadata": {},
   "outputs": [
    {
     "name": "stdout",
     "output_type": "stream",
     "text": [
      "bhavana,20 years old\n"
     ]
    }
   ],
   "source": [
    "class Student:\n",
    "    def __init__(self, name, age):\n",
    "        self.name = name\n",
    "        self.age = age\n",
    "    def __str__(self):\n",
    "     return f\"{self.name},{self.age} years old\"\n",
    "my_Student = Student(name =\"bhavana\", age = 20)\n",
    "print(my_Student)"
   ]
  }
 ],
 "metadata": {
  "kernelspec": {
   "display_name": "Python 3 (ipykernel)",
   "language": "python",
   "name": "python3"
  },
  "language_info": {
   "codemirror_mode": {
    "name": "ipython",
    "version": 3
   },
   "file_extension": ".py",
   "mimetype": "text/x-python",
   "name": "python",
   "nbconvert_exporter": "python",
   "pygments_lexer": "ipython3",
   "version": "3.12.4"
  }
 },
 "nbformat": 4,
 "nbformat_minor": 5
}
