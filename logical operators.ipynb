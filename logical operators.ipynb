{
 "cells": [
  {
   "cell_type": "code",
   "execution_count": 1,
   "id": "ba55d9d6-2e8a-4834-b3b6-4120bfd4b327",
   "metadata": {},
   "outputs": [
    {
     "name": "stdout",
     "output_type": "stream",
     "text": [
      "True\n"
     ]
    }
   ],
   "source": [
    "print(1000>999 and 999<1000)"
   ]
  },
  {
   "cell_type": "code",
   "execution_count": 3,
   "id": "32d27b23-6a19-45f6-8074-6c586040244c",
   "metadata": {},
   "outputs": [
    {
     "name": "stdout",
     "output_type": "stream",
     "text": [
      "False\n"
     ]
    }
   ],
   "source": [
    "print(1000<999 and 999>1000)"
   ]
  },
  {
   "cell_type": "code",
   "execution_count": 5,
   "id": "47b66faf-eb67-4f3e-9978-717f7e605a3c",
   "metadata": {},
   "outputs": [
    {
     "name": "stdout",
     "output_type": "stream",
     "text": [
      "True\n"
     ]
    }
   ],
   "source": [
    "print(1000<999 or 1000>999)"
   ]
  },
  {
   "cell_type": "code",
   "execution_count": 7,
   "id": "56aacd17-ad4a-4eb0-b62e-52a3b2d2caf9",
   "metadata": {},
   "outputs": [
    {
     "name": "stdout",
     "output_type": "stream",
     "text": [
      "False\n"
     ]
    }
   ],
   "source": [
    "print(1000<999 or 999>1000)"
   ]
  },
  {
   "cell_type": "code",
   "execution_count": 9,
   "id": "39b34675-ff6e-448f-92d5-0c687bca2425",
   "metadata": {},
   "outputs": [
    {
     "name": "stdout",
     "output_type": "stream",
     "text": [
      "True\n"
     ]
    }
   ],
   "source": [
    "x = 509\n",
    "print(not(x>550 and x<600))"
   ]
  },
  {
   "cell_type": "code",
   "execution_count": 11,
   "id": "8c54d654-a0dd-4592-917b-2548478908b5",
   "metadata": {},
   "outputs": [
    {
     "name": "stdout",
     "output_type": "stream",
     "text": [
      "False\n"
     ]
    }
   ],
   "source": [
    "x = 509\n",
    "print(not(x>500 or x<500))"
   ]
  },
  {
   "cell_type": "code",
   "execution_count": 15,
   "id": "2f193465-0625-4e34-b657-f508aa2f8561",
   "metadata": {},
   "outputs": [
    {
     "name": "stdout",
     "output_type": "stream",
     "text": [
      "True\n"
     ]
    }
   ],
   "source": [
    "x = 300\n",
    "print(not(x<290 and x>400))"
   ]
  },
  {
   "cell_type": "code",
   "execution_count": 17,
   "id": "d6450210-c088-4233-8506-90fd39401766",
   "metadata": {},
   "outputs": [
    {
     "name": "stdout",
     "output_type": "stream",
     "text": [
      "False\n"
     ]
    }
   ],
   "source": [
    "x = 770\n",
    "print(not(x>750 or x<780))\n"
   ]
  },
  {
   "cell_type": "code",
   "execution_count": 21,
   "id": "018bce3a-ae3a-4814-abd2-357669b8d938",
   "metadata": {},
   "outputs": [
    {
     "name": "stdout",
     "output_type": "stream",
     "text": [
      "True\n"
     ]
    }
   ],
   "source": [
    "print(820>810 and 920<930)"
   ]
  },
  {
   "cell_type": "code",
   "execution_count": 23,
   "id": "0c0495d2-54b3-485b-92ad-38c9b0d87e2c",
   "metadata": {},
   "outputs": [
    {
     "name": "stdout",
     "output_type": "stream",
     "text": [
      "True\n"
     ]
    }
   ],
   "source": [
    "print(820>810 or 920<900)"
   ]
  },
  {
   "cell_type": "code",
   "execution_count": null,
   "id": "a9f44551-b573-4c19-88cd-bb41a4055c46",
   "metadata": {},
   "outputs": [],
   "source": []
  }
 ],
 "metadata": {
  "kernelspec": {
   "display_name": "Python 3 (ipykernel)",
   "language": "python",
   "name": "python3"
  },
  "language_info": {
   "codemirror_mode": {
    "name": "ipython",
    "version": 3
   },
   "file_extension": ".py",
   "mimetype": "text/x-python",
   "name": "python",
   "nbconvert_exporter": "python",
   "pygments_lexer": "ipython3",
   "version": "3.12.4"
  }
 },
 "nbformat": 4,
 "nbformat_minor": 5
}
