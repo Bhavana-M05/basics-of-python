{
 "cells": [
  {
   "cell_type": "code",
   "execution_count": 23,
   "id": "048fdcca-380b-4b68-8863-7e34648a45b2",
   "metadata": {},
   "outputs": [
    {
     "name": "stdout",
     "output_type": "stream",
     "text": [
      "Hello World\n"
     ]
    }
   ],
   "source": [
    "print(\"Hello World\")"
   ]
  },
  {
   "cell_type": "code",
   "execution_count": 25,
   "id": "2b0f89f8-ec85-4e6a-b766-42f64d4ada9b",
   "metadata": {},
   "outputs": [
    {
     "name": "stdout",
     "output_type": "stream",
     "text": [
      "python version 3.12.4 | packaged by Anaconda, Inc. | (main, Jun 18 2024, 15:03:56) [MSC v.1929 64 bit (AMD64)]\n"
     ]
    }
   ],
   "source": [
    "import sys\n",
    "#print only the python version as a staring\n",
    "print(\"python version\", sys.version)"
   ]
  },
  {
   "cell_type": "code",
   "execution_count": 35,
   "id": "c0ac092e-4cbf-4d0a-939b-718e475386ff",
   "metadata": {},
   "outputs": [
    {
     "name": "stdout",
     "output_type": "stream",
     "text": [
      "Ten is greater than two!\n"
     ]
    }
   ],
   "source": [
    "if 10 > 2:\n",
    "    print(\"Ten is greater than two!\")"
   ]
  },
  {
   "cell_type": "code",
   "execution_count": 61,
   "id": "f44f5ea1-496c-49b5-9566-99ed8dbfb8f0",
   "metadata": {},
   "outputs": [
    {
     "name": "stdout",
     "output_type": "stream",
     "text": [
      "['False', 'None', 'True', 'and', 'as', 'assert', 'async', 'await', 'break', 'class', 'continue', 'def', 'del', 'elif', 'else', 'except', 'finally', 'for', 'from', 'global', 'if', 'import', 'in', 'is', 'lambda', 'nonlocal', 'not', 'or', 'pass', 'raise', 'return', 'try', 'while', 'with', 'yield']\n"
     ]
    },
    {
     "data": {
      "text/plain": [
       "35"
      ]
     },
     "execution_count": 61,
     "metadata": {},
     "output_type": "execute_result"
    }
   ],
   "source": [
    "import keyword\n",
    "python_keywords = keyword.kwlist\n",
    "\n",
    "print(python_keywords)\n",
    "\n",
    "len(python_keywords)\n"
   ]
  },
  {
   "cell_type": "code",
   "execution_count": 55,
   "id": "3ff58c42-1223-490b-8093-f5e104bbfded",
   "metadata": {},
   "outputs": [
    {
     "name": "stdout",
     "output_type": "stream",
     "text": [
      "eight is less than ten\n"
     ]
    }
   ],
   "source": [
    "if 8<10:\n",
    "    print(\"eight is less than ten\""
   ]
  },
  {
   "cell_type": "code",
   "execution_count": null,
   "id": "07dcda21-2be2-47fc-a1b5-2401bb155b2c",
   "metadata": {},
   "outputs": [],
   "source": []
  }
 ],
 "metadata": {
  "kernelspec": {
   "display_name": "Python 3 (ipykernel)",
   "language": "python",
   "name": "python3"
  },
  "language_info": {
   "codemirror_mode": {
    "name": "ipython",
    "version": 3
   },
   "file_extension": ".py",
   "mimetype": "text/x-python",
   "name": "python",
   "nbconvert_exporter": "python",
   "pygments_lexer": "ipython3",
   "version": "3.12.4"
  }
 },
 "nbformat": 4,
 "nbformat_minor": 5
}
