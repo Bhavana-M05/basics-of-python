{
 "cells": [
  {
   "cell_type": "code",
   "execution_count": 87,
   "id": "0cc556ce-d6bb-4414-9611-1b4b832164ca",
   "metadata": {},
   "outputs": [
    {
     "name": "stdout",
     "output_type": "stream",
     "text": [
      "bhavana\n",
      "20\n",
      "A\n"
     ]
    }
   ],
   "source": [
    "#dictionary with key-points \n",
    "student={\"name\" : 'bhavana',\n",
    "'age' : '20',\n",
    "'grade' : 'A'}\n",
    "print(student['name'])\n",
    "print(student['age'])\n",
    "print(student['grade'])"
   ]
  },
  {
   "cell_type": "code",
   "execution_count": 89,
   "id": "5da9a2bd-0b81-4960-9aa5-ddd1cf2af608",
   "metadata": {},
   "outputs": [
    {
     "data": {
      "text/plain": [
       "{'name': 'bhavana', 'age': 20, 'grades': [85, 90, 92]}"
      ]
     },
     "execution_count": 89,
     "metadata": {},
     "output_type": "execute_result"
    }
   ],
   "source": [
    "mixed_dist= {\n",
    "    'name': 'bhavana',\n",
    "    'age':20,\n",
    "    'grades':[85,90,92] \n",
    "} \n",
    "mixed_dist"
   ]
  },
  {
   "cell_type": "code",
   "execution_count": 91,
   "id": "588b208f-a814-4730-ad7b-e0bbc8cd1332",
   "metadata": {},
   "outputs": [
    {
     "data": {
      "text/plain": [
       "{'name': 'bhavana', 'age': 20, 'grade': 'A'}"
      ]
     },
     "execution_count": 91,
     "metadata": {},
     "output_type": "execute_result"
    }
   ],
   "source": [
    "#modifying and adding entries\n",
    "student = {\n",
    "    'name': 'bhavana',\n",
    "    'age': '65',\n",
    "'grade':'A'\n",
    "}\n",
    "student['age'] = 20\n",
    "student"
   ]
  },
  {
   "cell_type": "code",
   "execution_count": 93,
   "id": "61ed16b5-a8ca-412d-9aa9-91fe34688d0f",
   "metadata": {},
   "outputs": [
    {
     "name": "stdout",
     "output_type": "stream",
     "text": [
      "{'name': 'bhavana', 'age': 20, 'grade': 'A', 'gender': ('female',), 'qualification': 'Degree'}\n"
     ]
    }
   ],
   "source": [
    "#adding a new entry\n",
    "student['gender'] = 'female',\n",
    "student['qualification'] = 'Degree'\n",
    "print(student)"
   ]
  },
  {
   "cell_type": "code",
   "execution_count": 81,
   "id": "6c7bcb98-7005-41e1-b7c4-bdc0e61887a0",
   "metadata": {},
   "outputs": [
    {
     "name": "stdout",
     "output_type": "stream",
     "text": [
      "A\n",
      "('female',)\n",
      "no value\n"
     ]
    }
   ],
   "source": [
    "#Dictionary method\n",
    "g = student.get('grade')\n",
    "gender = student.get('gender','not specified')\n",
    "h = student.get('location','no value')\n",
    "print(g)\n",
    "print(gender)\n",
    "print(h)"
   ]
  },
  {
   "cell_type": "code",
   "execution_count": 83,
   "id": "367d8612-4b84-4459-bea8-f79fda6ca646",
   "metadata": {},
   "outputs": [
    {
     "name": "stdout",
     "output_type": "stream",
     "text": [
      "dict_keys(['name', 'age', 'grade', 'gender', 'qualification'])\n"
     ]
    }
   ],
   "source": [
    "keys = student.keys()\n",
    "print(keys)"
   ]
  },
  {
   "cell_type": "code",
   "execution_count": 95,
   "id": "10052e40-c171-4b46-9967-63bf43ef55fd",
   "metadata": {},
   "outputs": [
    {
     "name": "stdout",
     "output_type": "stream",
     "text": [
      "dict_values(['bhavana', 20, 'A', ('female',), 'Degree'])\n"
     ]
    }
   ],
   "source": [
    "values = student.values()\n",
    "print(values)"
   ]
  },
  {
   "cell_type": "code",
   "execution_count": 103,
   "id": "07d9aa19-ff98-4bf7-a8cb-d7f373467e23",
   "metadata": {},
   "outputs": [
    {
     "name": "stdout",
     "output_type": "stream",
     "text": [
      "dict_items([('name', 'bhavana'), ('age', 20), ('grade', 'A'), ('gender', ('female',)), ('qualification', 'Degree')])\n"
     ]
    }
   ],
   "source": [
    "items = student.items()\n",
    "print(items)"
   ]
  },
  {
   "cell_type": "code",
   "execution_count": 113,
   "id": "756e72db-9853-472a-b866-b74beb8b91d3",
   "metadata": {},
   "outputs": [
    {
     "name": "stdout",
     "output_type": "stream",
     "text": [
      "20\n"
     ]
    }
   ],
   "source": [
    "mixed_dist = {\n",
    "    'name': 'bhavana',\n",
    "    'age': 20,\n",
    "    'grades': [85,90,95]\n",
    "}\n",
    "age = mixed_dist.pop('age')\n",
    "print(age)"
   ]
  },
  {
   "cell_type": "code",
   "execution_count": 121,
   "id": "2d71eada-57ae-48bc-9020-06626073f823",
   "metadata": {},
   "outputs": [
    {
     "name": "stdout",
     "output_type": "stream",
     "text": [
      "{'name': 'bhavana', 'age': 20, 'grade': 'A', 'gender': ('female',), 'qualification': 'Degree'}\n",
      "('qualification', 'Degree')\n"
     ]
    }
   ],
   "source": [
    "print(student)\n",
    "{'name': \"bhavana\",\"age\":\"20\", \"grade\":\"A\"}\n",
    "last_item = student.popitem()\n",
    "print(last_item)"
   ]
  },
  {
   "cell_type": "code",
   "execution_count": 137,
   "id": "42a6a2f7-f021-4006-bb1b-8e5bf615ac44",
   "metadata": {},
   "outputs": [
    {
     "name": "stdout",
     "output_type": "stream",
     "text": [
      "{'name': 'bhavana', 'age': '20', 'grade': 'A+'}\n"
     ]
    }
   ],
   "source": [
    "student = {\n",
    "    'name': \"bhavana\",\n",
    "    'age': 18,\n",
    "    'grade': 'a'\n",
    "}\n",
    "student\n",
    "{'name': 'bhavana','age': 18,'grade': 'A'}\n",
    "new_data = {'age':'20','grade':'A+'}\n",
    "student.update(new_data)\n",
    "print(student)"
   ]
  },
  {
   "cell_type": "code",
   "execution_count": null,
   "id": "bd8e2739-2170-4a6a-b9f8-2ec9864ccc9a",
   "metadata": {},
   "outputs": [],
   "source": []
  }
 ],
 "metadata": {
  "kernelspec": {
   "display_name": "Python 3 (ipykernel)",
   "language": "python",
   "name": "python3"
  },
  "language_info": {
   "codemirror_mode": {
    "name": "ipython",
    "version": 3
   },
   "file_extension": ".py",
   "mimetype": "text/x-python",
   "name": "python",
   "nbconvert_exporter": "python",
   "pygments_lexer": "ipython3",
   "version": "3.12.4"
  }
 },
 "nbformat": 4,
 "nbformat_minor": 5
}
